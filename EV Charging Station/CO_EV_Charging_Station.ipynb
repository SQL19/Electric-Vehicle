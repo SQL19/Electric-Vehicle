{
 "cells": [
  {
   "cell_type": "code",
   "execution_count": 1,
   "id": "3ad60f92-7151-4d3e-8d67-245d52288b62",
   "metadata": {},
   "outputs": [],
   "source": [
    "import pandas as pd\n",
    "import numpy as np\n",
    "import matplotlib.pyplot as plt\n",
    "import seaborn as sns"
   ]
  },
  {
   "cell_type": "markdown",
   "id": "e2849585-a124-4dde-b0bc-a0366ceda0a2",
   "metadata": {},
   "source": [
    "This notebook explored the Colorado electric vehicle charging station dataset, which contains the energy use, length of charging time, gasoline savings and greenhouse gas emission reductions from all city-owned electric vehicle (EV) charging stations. Data are broken out by charging station name/location, transaction date, and transaction start time. Each row indicates one EV charging station transaction. A data dictionary with descriptions of the fields included in the dataset can be downloaded https://webappsprod.bouldercolorado.gov/opendata/ev_datadictionary.csv."
   ]
  },
  {
   "cell_type": "markdown",
   "id": "577939a6-905c-4a14-9c37-eaceebdc610c",
   "metadata": {},
   "source": [
    "#### Load Data"
   ]
  },
  {
   "cell_type": "code",
   "execution_count": 2,
   "id": "0c4025b7-d527-4377-ac02-987be61c29b4",
   "metadata": {},
   "outputs": [
    {
     "data": {
      "text/html": [
       "<div>\n",
       "<style scoped>\n",
       "    .dataframe tbody tr th:only-of-type {\n",
       "        vertical-align: middle;\n",
       "    }\n",
       "\n",
       "    .dataframe tbody tr th {\n",
       "        vertical-align: top;\n",
       "    }\n",
       "\n",
       "    .dataframe thead th {\n",
       "        text-align: right;\n",
       "    }\n",
       "</style>\n",
       "<table border=\"1\" class=\"dataframe\">\n",
       "  <thead>\n",
       "    <tr style=\"text-align: right;\">\n",
       "      <th></th>\n",
       "      <th>Station_Name</th>\n",
       "      <th>Address</th>\n",
       "      <th>City</th>\n",
       "      <th>State_Province</th>\n",
       "      <th>Zip_Postal_Code</th>\n",
       "      <th>Start_Date___Time</th>\n",
       "      <th>Start_Time_Zone</th>\n",
       "      <th>End_Date___Time</th>\n",
       "      <th>End_Time_Zone</th>\n",
       "      <th>Total_Duration__hh_mm_ss_</th>\n",
       "      <th>Charging_Time__hh_mm_ss_</th>\n",
       "      <th>Energy__kWh_</th>\n",
       "      <th>GHG_Savings__kg_</th>\n",
       "      <th>Gasoline_Savings__gallons_</th>\n",
       "      <th>Port_Type</th>\n",
       "      <th>ObjectID</th>\n",
       "      <th>ObjectId2</th>\n",
       "    </tr>\n",
       "  </thead>\n",
       "  <tbody>\n",
       "    <tr>\n",
       "      <th>0</th>\n",
       "      <td>BOULDER / JUNCTION ST1</td>\n",
       "      <td>2280 Junction Pl</td>\n",
       "      <td>Boulder</td>\n",
       "      <td>Colorado</td>\n",
       "      <td>80301</td>\n",
       "      <td>1/1/2018 17:49</td>\n",
       "      <td>MDT</td>\n",
       "      <td>1/1/2018 19:52</td>\n",
       "      <td>MDT</td>\n",
       "      <td>2:03:02</td>\n",
       "      <td>2:02:44</td>\n",
       "      <td>6.504</td>\n",
       "      <td>2.732</td>\n",
       "      <td>0.816</td>\n",
       "      <td>Level 2</td>\n",
       "      <td>0</td>\n",
       "      <td>1</td>\n",
       "    </tr>\n",
       "    <tr>\n",
       "      <th>1</th>\n",
       "      <td>BOULDER / JUNCTION ST1</td>\n",
       "      <td>2280 Junction Pl</td>\n",
       "      <td>Boulder</td>\n",
       "      <td>Colorado</td>\n",
       "      <td>80301</td>\n",
       "      <td>1/2/2018 8:52</td>\n",
       "      <td>MDT</td>\n",
       "      <td>1/2/2018 9:16</td>\n",
       "      <td>MDT</td>\n",
       "      <td>0:24:34</td>\n",
       "      <td>0:24:19</td>\n",
       "      <td>2.481</td>\n",
       "      <td>1.042</td>\n",
       "      <td>0.311</td>\n",
       "      <td>Level 2</td>\n",
       "      <td>1</td>\n",
       "      <td>2</td>\n",
       "    </tr>\n",
       "    <tr>\n",
       "      <th>2</th>\n",
       "      <td>BOULDER / JUNCTION ST1</td>\n",
       "      <td>2280 Junction Pl</td>\n",
       "      <td>Boulder</td>\n",
       "      <td>Colorado</td>\n",
       "      <td>80301</td>\n",
       "      <td>1/2/2018 21:11</td>\n",
       "      <td>MDT</td>\n",
       "      <td>1/3/2018 6:23</td>\n",
       "      <td>MDT</td>\n",
       "      <td>9:12:21</td>\n",
       "      <td>3:40:52</td>\n",
       "      <td>15.046</td>\n",
       "      <td>6.319</td>\n",
       "      <td>1.888</td>\n",
       "      <td>Level 2</td>\n",
       "      <td>2</td>\n",
       "      <td>3</td>\n",
       "    </tr>\n",
       "    <tr>\n",
       "      <th>3</th>\n",
       "      <td>BOULDER / ALPINE ST1</td>\n",
       "      <td>1275 Alpine Ave</td>\n",
       "      <td>Boulder</td>\n",
       "      <td>Colorado</td>\n",
       "      <td>80304</td>\n",
       "      <td>1/3/2018 9:19</td>\n",
       "      <td>MDT</td>\n",
       "      <td>1/3/2018 11:14</td>\n",
       "      <td>MDT</td>\n",
       "      <td>1:54:51</td>\n",
       "      <td>1:54:29</td>\n",
       "      <td>6.947</td>\n",
       "      <td>2.918</td>\n",
       "      <td>0.872</td>\n",
       "      <td>Level 2</td>\n",
       "      <td>3</td>\n",
       "      <td>4</td>\n",
       "    </tr>\n",
       "    <tr>\n",
       "      <th>4</th>\n",
       "      <td>BOULDER / BASELINE ST1</td>\n",
       "      <td>900 Baseline Rd</td>\n",
       "      <td>Boulder</td>\n",
       "      <td>Colorado</td>\n",
       "      <td>80302</td>\n",
       "      <td>1/3/2018 14:13</td>\n",
       "      <td>MDT</td>\n",
       "      <td>1/3/2018 14:30</td>\n",
       "      <td>MDT</td>\n",
       "      <td>0:16:58</td>\n",
       "      <td>0:16:44</td>\n",
       "      <td>1.800</td>\n",
       "      <td>0.756</td>\n",
       "      <td>0.226</td>\n",
       "      <td>Level 2</td>\n",
       "      <td>4</td>\n",
       "      <td>5</td>\n",
       "    </tr>\n",
       "  </tbody>\n",
       "</table>\n",
       "</div>"
      ],
      "text/plain": [
       "             Station_Name           Address     City State_Province  \\\n",
       "0  BOULDER / JUNCTION ST1  2280 Junction Pl  Boulder       Colorado   \n",
       "1  BOULDER / JUNCTION ST1  2280 Junction Pl  Boulder       Colorado   \n",
       "2  BOULDER / JUNCTION ST1  2280 Junction Pl  Boulder       Colorado   \n",
       "3    BOULDER / ALPINE ST1   1275 Alpine Ave  Boulder       Colorado   \n",
       "4  BOULDER / BASELINE ST1   900 Baseline Rd  Boulder       Colorado   \n",
       "\n",
       "   Zip_Postal_Code Start_Date___Time Start_Time_Zone End_Date___Time  \\\n",
       "0            80301    1/1/2018 17:49             MDT  1/1/2018 19:52   \n",
       "1            80301     1/2/2018 8:52             MDT   1/2/2018 9:16   \n",
       "2            80301    1/2/2018 21:11             MDT   1/3/2018 6:23   \n",
       "3            80304     1/3/2018 9:19             MDT  1/3/2018 11:14   \n",
       "4            80302    1/3/2018 14:13             MDT  1/3/2018 14:30   \n",
       "\n",
       "  End_Time_Zone Total_Duration__hh_mm_ss_ Charging_Time__hh_mm_ss_  \\\n",
       "0           MDT                   2:03:02                  2:02:44   \n",
       "1           MDT                   0:24:34                  0:24:19   \n",
       "2           MDT                   9:12:21                  3:40:52   \n",
       "3           MDT                   1:54:51                  1:54:29   \n",
       "4           MDT                   0:16:58                  0:16:44   \n",
       "\n",
       "   Energy__kWh_  GHG_Savings__kg_  Gasoline_Savings__gallons_ Port_Type  \\\n",
       "0         6.504             2.732                       0.816   Level 2   \n",
       "1         2.481             1.042                       0.311   Level 2   \n",
       "2        15.046             6.319                       1.888   Level 2   \n",
       "3         6.947             2.918                       0.872   Level 2   \n",
       "4         1.800             0.756                       0.226   Level 2   \n",
       "\n",
       "   ObjectID  ObjectId2  \n",
       "0         0          1  \n",
       "1         1          2  \n",
       "2         2          3  \n",
       "3         3          4  \n",
       "4         4          5  "
      ]
     },
     "execution_count": 2,
     "metadata": {},
     "output_type": "execute_result"
    }
   ],
   "source": [
    "df = pd.read_csv('Electric_Vehicle_Charging_Station_Data.csv')\n",
    "df.head()"
   ]
  },
  {
   "cell_type": "code",
   "execution_count": 3,
   "id": "1361e2f4-4811-4419-ad1e-88286728f702",
   "metadata": {},
   "outputs": [
    {
     "data": {
      "text/plain": [
       "(148136, 17)"
      ]
     },
     "execution_count": 3,
     "metadata": {},
     "output_type": "execute_result"
    }
   ],
   "source": [
    "df.shape"
   ]
  },
  {
   "cell_type": "code",
   "execution_count": 4,
   "id": "07da4d77-b380-41ce-8f6b-8ce7a9ff49fb",
   "metadata": {},
   "outputs": [
    {
     "data": {
      "text/plain": [
       "50"
      ]
     },
     "execution_count": 4,
     "metadata": {},
     "output_type": "execute_result"
    }
   ],
   "source": [
    "# how many charge stations\n",
    "df['Station_Name'].nunique()"
   ]
  },
  {
   "cell_type": "markdown",
   "id": "790fcda2-0fba-4a99-b7cf-daef73321843",
   "metadata": {},
   "source": [
    "#### Data Cleaning"
   ]
  },
  {
   "cell_type": "code",
   "execution_count": 5,
   "id": "c23b0b6f-8f7e-44cf-a9ec-274e305a7478",
   "metadata": {},
   "outputs": [
    {
     "data": {
      "text/plain": [
       "Station_Name                  0\n",
       "Address                       0\n",
       "City                          0\n",
       "State_Province                0\n",
       "Zip_Postal_Code               0\n",
       "Start_Date___Time             0\n",
       "Start_Time_Zone               0\n",
       "End_Date___Time               4\n",
       "End_Time_Zone                 0\n",
       "Total_Duration__hh_mm_ss_     0\n",
       "Charging_Time__hh_mm_ss_      0\n",
       "Energy__kWh_                  0\n",
       "GHG_Savings__kg_              0\n",
       "Gasoline_Savings__gallons_    0\n",
       "Port_Type                     0\n",
       "ObjectID                      0\n",
       "ObjectId2                     0\n",
       "dtype: int64"
      ]
     },
     "execution_count": 5,
     "metadata": {},
     "output_type": "execute_result"
    }
   ],
   "source": [
    "# check null values\n",
    "df.isnull().sum()\n",
    "#df[df.isnull().any(axis=1)]"
   ]
  },
  {
   "cell_type": "code",
   "execution_count": 6,
   "id": "49d69fb7-93d8-4b65-b3d3-36d582e7081e",
   "metadata": {},
   "outputs": [],
   "source": [
    "# drop null values\n",
    "df = df.dropna()"
   ]
  },
  {
   "cell_type": "code",
   "execution_count": 7,
   "id": "99002467-23bb-4917-8239-d08bb47e8480",
   "metadata": {},
   "outputs": [],
   "source": [
    "# standardize timestamp format\n",
    "from dateutil import parser\n",
    "\n",
    "# Function to parse timestamps\n",
    "def parse_timestamp(timestamp):\n",
    "    try:\n",
    "        return parser.parse(str(timestamp))\n",
    "    except ValueError:\n",
    "        return None\n",
    "\n",
    "# Apply the function to the timestamp column\n",
    "df['Start_Date___Time'] = df['Start_Date___Time'].apply(parse_timestamp)\n",
    "df['End_Date___Time'] = df['End_Date___Time'].apply(parse_timestamp)\n",
    "\n",
    "# Format the parsed timestamps\n",
    "df['Start_Date___Time'] = df['Start_Date___Time'].dt.strftime('%Y-%m-%d %H:%M:%S')\n",
    "df['End_Date___Time'] = df['End_Date___Time'].dt.strftime('%Y-%m-%d %H:%M:%S')"
   ]
  },
  {
   "cell_type": "code",
   "execution_count": 8,
   "id": "9c0affda-846c-450b-b478-9664605599de",
   "metadata": {},
   "outputs": [],
   "source": [
    "# calculate charging time in hours\n",
    "df['Charge_Time_hours'] = df['Charging_Time__hh_mm_ss_'] / np.timedelta64(1, 'h')"
   ]
  },
  {
   "cell_type": "code",
   "execution_count": 9,
   "id": "0b9fd43e-5fe6-4f62-8643-ce0a2f5cf4dd",
   "metadata": {},
   "outputs": [],
   "source": [
    "#calculate weekday of charging timestamp\n",
    "df['Start_Date___Time'] = pd.to_datetime(df['Start_Date___Time'])\n",
    "#df['Day_of_Week'] = df['Start_Date___Time'].dt.day_name()\n",
    "df['Day_of_Week'] = df['Start_Date___Time'].dt.strftime('%a')"
   ]
  },
  {
   "cell_type": "code",
   "execution_count": 10,
   "id": "a2df1397-df43-42c3-aa98-be8ae57a3df8",
   "metadata": {},
   "outputs": [
    {
     "data": {
      "text/plain": [
       "count    148132.000000\n",
       "mean          1.731388\n",
       "std           1.691087\n",
       "min           0.000000\n",
       "25%           0.683056\n",
       "50%           1.385278\n",
       "75%           2.259167\n",
       "max          50.400278\n",
       "Name: Charge_Time_hours, dtype: float64"
      ]
     },
     "execution_count": 10,
     "metadata": {},
     "output_type": "execute_result"
    }
   ],
   "source": [
    "df['Charge_Time_hours'].describe()"
   ]
  },
  {
   "cell_type": "code",
   "execution_count": 11,
   "id": "ed7ee112-cb66-4e5d-a209-b499d19f2121",
   "metadata": {},
   "outputs": [],
   "source": [
    "# remove outliers using the IQR method\n",
    "def remove_outliers_iqr(df, column):\n",
    "    # Calculate Q1 (25th percentile) and Q3 (75th percentile)\n",
    "    Q1 = df[column].quantile(0.25)\n",
    "    Q3 = df[column].quantile(0.75)\n",
    "    # Calculate the IQR\n",
    "    IQR = Q3 - Q1\n",
    "    # Define the lower and upper bounds for outliers\n",
    "    lower_bound = Q1 - 1.5 * IQR\n",
    "    upper_bound = Q3 + 1.5 * IQR\n",
    "    # Remove outliers\n",
    "    df_cleaned = df[(df[column] >= lower_bound) & (df[column] <= upper_bound)]\n",
    "    return df_cleaned\n",
    "\n",
    "# Apply the function to remove outliers\n",
    "df = remove_outliers_iqr(df, 'Charge_Time_hours')"
   ]
  },
  {
   "cell_type": "markdown",
   "id": "0dbc95ab-7099-4572-b195-1b05095b3fb2",
   "metadata": {},
   "source": [
    "#### EDA"
   ]
  },
  {
   "cell_type": "code",
   "execution_count": 12,
   "id": "339ef757-24b2-4e2e-9f87-9743d1064727",
   "metadata": {},
   "outputs": [
    {
     "data": {
      "image/png": "[encoded data removed]",
      "text/plain": [
       "<Figure size 720x432 with 1 Axes>"
      ]
     },
     "metadata": {
      "needs_background": "light"
     },
     "output_type": "display_data"
    }
   ],
   "source": [
    "# charge time histagram\n",
    "plt.figure(figsize=(10,6))\n",
    "sns.histplot(data=df['Charge_Time_hours'])\n",
    "plt.title(\"Charge Session\")\n",
    "plt.xlabel(\"Charge Time (hour)\")\n",
    "plt.show()"
   ]
  },
  {
   "cell_type": "code",
   "execution_count": 13,
   "id": "2e196185-e745-4050-9a1a-56984189484e",
   "metadata": {},
   "outputs": [],
   "source": [
    "# total energy dispensed by charging station\n",
    "df_station = df.groupby('Station_Name', as_index=False)['Energy__kWh_'].sum()"
   ]
  },
  {
   "cell_type": "code",
   "execution_count": 14,
   "id": "9096168b-9428-45fc-a15f-97710b77363c",
   "metadata": {},
   "outputs": [
    {
     "data": {
      "image/png": "[encoded data removed]",
      "text/plain": [
       "<Figure size 720x432 with 1 Axes>"
      ]
     },
     "metadata": {
      "needs_background": "light"
     },
     "output_type": "display_data"
    }
   ],
   "source": [
    "plt.figure(figsize=(10,6))\n",
    "sns.histplot(data=df_station['Energy__kWh_'])\n",
    "plt.title(\"Charge Station\")\n",
    "plt.xlabel(\"Total Energy (kWh)\")\n",
    "plt.show()"
   ]
  },
  {
   "cell_type": "code",
   "execution_count": 15,
   "id": "b53fa463-850f-49c0-a71c-aab49c6f0eed",
   "metadata": {},
   "outputs": [],
   "source": [
    "# get station count and GHG Saving by zipcode\n",
    "df_zipcode = df.groupby('Zip_Postal_Code', as_index=False) \\\n",
    "               .agg({'Station_Name':'nunique', 'GHG_Savings__kg_':'sum'}) \\\n",
    "               .rename(columns={'Station_Name': 'Station_Count', 'GHG_Savings__kg_': 'Total_GHG_Savings'})"
   ]
  },
  {
   "cell_type": "code",
   "execution_count": 16,
   "id": "e02ab9f8-8ac6-4a04-aced-8cf1e14a822c",
   "metadata": {},
   "outputs": [
    {
     "data": {
      "text/html": [
       "<div>\n",
       "<style scoped>\n",
       "    .dataframe tbody tr th:only-of-type {\n",
       "        vertical-align: middle;\n",
       "    }\n",
       "\n",
       "    .dataframe tbody tr th {\n",
       "        vertical-align: top;\n",
       "    }\n",
       "\n",
       "    .dataframe thead th {\n",
       "        text-align: right;\n",
       "    }\n",
       "</style>\n",
       "<table border=\"1\" class=\"dataframe\">\n",
       "  <thead>\n",
       "    <tr style=\"text-align: right;\">\n",
       "      <th></th>\n",
       "      <th>Zip_Postal_Code</th>\n",
       "      <th>Station_Count</th>\n",
       "      <th>Total_GHG_Savings</th>\n",
       "    </tr>\n",
       "  </thead>\n",
       "  <tbody>\n",
       "    <tr>\n",
       "      <th>0</th>\n",
       "      <td>80301</td>\n",
       "      <td>22</td>\n",
       "      <td>84707.603</td>\n",
       "    </tr>\n",
       "    <tr>\n",
       "      <th>1</th>\n",
       "      <td>80302</td>\n",
       "      <td>21</td>\n",
       "      <td>286826.613</td>\n",
       "    </tr>\n",
       "    <tr>\n",
       "      <th>2</th>\n",
       "      <td>80303</td>\n",
       "      <td>3</td>\n",
       "      <td>122052.662</td>\n",
       "    </tr>\n",
       "    <tr>\n",
       "      <th>3</th>\n",
       "      <td>80304</td>\n",
       "      <td>2</td>\n",
       "      <td>73835.056</td>\n",
       "    </tr>\n",
       "    <tr>\n",
       "      <th>4</th>\n",
       "      <td>80305</td>\n",
       "      <td>2</td>\n",
       "      <td>50542.214</td>\n",
       "    </tr>\n",
       "  </tbody>\n",
       "</table>\n",
       "</div>"
      ],
      "text/plain": [
       "   Zip_Postal_Code  Station_Count  Total_GHG_Savings\n",
       "0            80301             22          84707.603\n",
       "1            80302             21         286826.613\n",
       "2            80303              3         122052.662\n",
       "3            80304              2          73835.056\n",
       "4            80305              2          50542.214"
      ]
     },
     "execution_count": 16,
     "metadata": {},
     "output_type": "execute_result"
    }
   ],
   "source": [
    "df_zipcode"
   ]
  },
  {
   "cell_type": "markdown",
   "id": "889528a0-07c9-4b28-8c13-73a901b26cd4",
   "metadata": {},
   "source": [
    "#### Heatmap of GHG Saving"
   ]
  },
  {
   "cell_type": "code",
   "execution_count": 17,
   "id": "174648dd-c3ff-4365-ad7a-6ddf4afc12a1",
   "metadata": {},
   "outputs": [],
   "source": [
    "import geopandas as gpd\n",
    "import folium\n",
    "\n",
    "# Load the GeoJSON file with ZIP code boundaries\n",
    "geojson_path = 'co_zip_codes.json'\n",
    "zip_geo = gpd.read_file(geojson_path)\n",
    "\n",
    "# Ensure ZIP codes are strings for merging\n",
    "df_zipcode['Zip_Postal_Code'] = df_zipcode['Zip_Postal_Code'].astype(str)\n",
    "zip_geo['ZCTA5CE10'] = zip_geo['ZCTA5CE10'].astype(str)\n",
    "\n",
    "# Merge the DataFrame with the GeoDataFrame\n",
    "merged = zip_geo.set_index('ZCTA5CE10').join(df_zipcode.set_index('Zip_Postal_Code'))\n",
    "merged = merged.dropna()\n",
    "\n",
    "# Create a base map\n",
    "m = folium.Map(location=[40.018578, -105.271499], zoom_start=11)\n",
    "\n",
    "# Add the choropleth layer\n",
    "folium.Choropleth(\n",
    "    geo_data=merged,\n",
    "    name='choropleth',\n",
    "    data=merged,\n",
    "    columns=[merged.index, 'Total_GHG_Savings'],\n",
    "    key_on='feature.id',\n",
    "    fill_color='OrRd',\n",
    "    fill_opacity=0.7,\n",
    "    line_opacity=0.2,\n",
    "    legend_name='GHG_Savings_kg'\n",
    ").add_to(m)\n",
    "\n",
    "# Add a layer control panel to the map\n",
    "folium.LayerControl().add_to(m)\n",
    "\n",
    "# Save the map to an HTML file\n",
    "m.save('GHG_Saving_Heatmap.html')"
   ]
  },
  {
   "cell_type": "code",
   "execution_count": null,
   "id": "3b67b9e4-6a2b-4ee8-91c2-695ecd0ae62f",
   "metadata": {},
   "outputs": [],
   "source": []
  }
 ],
 "metadata": {
  "kernelspec": {
   "display_name": "Python 3 (ipykernel)",
   "language": "python",
   "name": "python3"
  },
  "language_info": {
   "codemirror_mode": {
    "name": "ipython",
    "version": 3
   },
   "file_extension": ".py",
   "mimetype": "text/x-python",
   "name": "python",
   "nbconvert_exporter": "python",
   "pygments_lexer": "ipython3",
   "version": "3.9.7"
  }
 },
 "nbformat": 4,
 "nbformat_minor": 5
}
